{
 "cells": [
  {
   "cell_type": "code",
   "execution_count": 1,
   "metadata": {},
   "outputs": [
    {
     "name": "stdout",
     "output_type": "stream",
     "text": [
      "WARNING:tensorflow:From /home/weber50432/miniconda3/envs/tensorflow/lib/python3.6/site-packages/tensorflow/python/compat/v2_compat.py:101: disable_resource_variables (from tensorflow.python.ops.variable_scope) is deprecated and will be removed in a future version.\n",
      "Instructions for updating:\n",
      "non-resource variables are not supported in the long term\n"
     ]
    }
   ],
   "source": [
    "# Python 3.6, Numpy 1.16.2, OpenCV, scikit-image, tensorflow 1.3\n",
    "import tensorflow.compat.v1 as tf\n",
    "tf.disable_v2_behavior()\n",
    "import vgg19_fastmal as vgg19\n",
    "import utils\n",
    "from sklearn.model_selection import train_test_split\n",
    "import os\n",
    "import csv\n",
    "import numpy as np\n",
    "import pandas as pd\n",
    "from random import random, shuffle\n",
    "\n",
    "def majority_voting(votes):\n",
    "    return max(votes,key=votes.count)"
   ]
  },
  {
   "cell_type": "code",
   "execution_count": 2,
   "metadata": {},
   "outputs": [],
   "source": [
    "# make the training and testing csv file\n",
    "# read the csv file as a dataframe\n",
    "data = pd.read_csv(\"../../lib/NPM1_slide_patch_num.csv\",header=None)\n",
    "# set the first row as the column name, and drop the first row\n",
    "data.columns = data.iloc[0]\n",
    "data = data.drop(data.index[0])\n",
    "# # random select 20% of the data replace the data in the dataframe\n",
    "# data = data.sample(frac=0.2,replace=True)\n",
    "data = data.reset_index(drop=True)\n",
    "# add A to the first column\n",
    "data.iloc[:,0] = 'A' + data.iloc[:,0].astype(str)\n",
    "# split the dataframe into training and testing by 80% and 20%\n",
    "df_train , df_test = train_test_split (data,test_size=0.2,random_state=100)\n",
    "# df_train"
   ]
  },
  {
   "cell_type": "code",
   "execution_count": 3,
   "metadata": {},
   "outputs": [],
   "source": [
    "csv_slide_ids = df_train['Slide'].tolist()\n",
    "csv_labels =np.array(df_train['Target']).astype(np.uint8)\n",
    "onehot_labels = np.zeros(shape=(csv_labels.shape[0], 2), dtype=np.float32)\n",
    "onehot_labels[csv_labels==0,0]=1\n",
    "onehot_labels[csv_labels==1,1]=1\n",
    "# print(len(csv_slide_ids))"
   ]
  },
  {
   "cell_type": "code",
   "execution_count": 4,
   "metadata": {},
   "outputs": [],
   "source": [
    "test_csv_slide_ids = df_test['Slide'].tolist()\n",
    "# print(len(test_csv_slide_ids))\n",
    "test_csv_labels =np.array(df_test['Target']).astype(np.uint8)"
   ]
  },
  {
   "cell_type": "code",
   "execution_count": 5,
   "metadata": {},
   "outputs": [
    {
     "name": "stdout",
     "output_type": "stream",
     "text": [
      "Negative train: 376\n",
      "Positive train: 81\n",
      "Negative test: 95\n",
      "Positive test: 20\n"
     ]
    }
   ],
   "source": [
    "#load the data path\n",
    "dataset = \"/home/exon_storage1/aml_slide/single_cell_image/\"\n",
    "dataset2 = None\n",
    "subdirsAll = os.listdir(dataset)\n",
    "\n",
    "selected_slides = []\n",
    "selected_labels=[]\n",
    "selected_onehot_labels = []\n",
    "\n",
    "test_slides = []\n",
    "test_labels=[]\n",
    "test_onehot_labels = []\n",
    "\n",
    "for index, slide in enumerate(csv_slide_ids):\n",
    "    if slide in subdirsAll:\n",
    "        # print(f'{slide} has label {csv_labels[index]} or {onehot_labels[index,:]}')\n",
    "        slide_path = os.path.join(dataset, slide)\n",
    "        selected_slides.append(slide_path) \n",
    "        selected_onehot_labels.append(onehot_labels[index,:])\n",
    "        selected_labels.append(csv_labels[index])\n",
    "\n",
    "for index, slide in enumerate(test_csv_slide_ids):\n",
    "    if slide in subdirsAll:\n",
    "        slide_path = os.path.join(dataset, slide)\n",
    "        # print(slide, ' has label ', test_csv_labels[index])\n",
    "        test_slides.append(slide_path) \n",
    "        test_labels.append(test_csv_labels[index])  \n",
    "\n",
    "selected_labels=np.array(selected_labels)\n",
    "positive_ids = np.nonzero(selected_labels)[0]\n",
    "negative_ids = np.nonzero(1-selected_labels)[0]\n",
    "\n",
    "# print(selected_slides[0])\n",
    "print(\"Negative train:\", np.sum(1-selected_labels))\n",
    "print(\"Positive train:\", np.sum(selected_labels))\n",
    "\n",
    "print(\"Negative test:\", np.sum(1-np.array(test_labels)))\n",
    "print(\"Positive test:\", np.sum(np.array(test_labels)))"
   ]
  },
  {
   "cell_type": "code",
   "execution_count": 6,
   "metadata": {},
   "outputs": [
    {
     "name": "stdout",
     "output_type": "stream",
     "text": [
      "WARNING:tensorflow:From /home/weber50432/miniconda3/envs/tensorflow/lib/python3.6/site-packages/tensorflow/python/util/dispatch.py:206: calling dropout (from tensorflow.python.ops.nn_ops) with keep_prob is deprecated and will be removed in a future version.\n",
      "Instructions for updating:\n",
      "Please use `rate` instead of `keep_prob`. Rate should be set to `rate = 1 - keep_prob`.\n",
      "WARNING:tensorflow:From /home/weber50432/miniconda3/envs/tensorflow/lib/python3.6/site-packages/tensorflow/python/util/dispatch.py:206: softmax_cross_entropy_with_logits (from tensorflow.python.ops.nn_ops) is deprecated and will be removed in a future version.\n",
      "Instructions for updating:\n",
      "\n",
      "Future major versions of TensorFlow will allow gradients to flow\n",
      "into the labels input on backprop by default.\n",
      "\n",
      "See `tf.nn.softmax_cross_entropy_with_logits_v2`.\n",
      "\n"
     ]
    },
    {
     "ename": "KeyboardInterrupt",
     "evalue": "",
     "output_type": "error",
     "traceback": [
      "\u001b[0;31m---------------------------------------------------------------------------\u001b[0m",
      "\u001b[0;31mKeyboardInterrupt\u001b[0m                         Traceback (most recent call last)",
      "\u001b[0;32m<ipython-input-6-510b0c0f72dd>\u001b[0m in \u001b[0;36m<module>\u001b[0;34m()\u001b[0m\n\u001b[1;32m     16\u001b[0m     tf.nn.softmax_cross_entropy_with_logits(logits=vgg.new_fc8, labels=true_out)) \n\u001b[1;32m     17\u001b[0m     \u001b[0mtrain\u001b[0m \u001b[0;34m=\u001b[0m \u001b[0mtf\u001b[0m\u001b[0;34m.\u001b[0m\u001b[0mtrain\u001b[0m\u001b[0;34m.\u001b[0m\u001b[0mGradientDescentOptimizer\u001b[0m\u001b[0;34m(\u001b[0m\u001b[0;36m0.0003\u001b[0m\u001b[0;34m)\u001b[0m\u001b[0;34m.\u001b[0m\u001b[0mminimize\u001b[0m\u001b[0;34m(\u001b[0m\u001b[0mfocal_loss\u001b[0m\u001b[0;34m)\u001b[0m\u001b[0;34m\u001b[0m\u001b[0;34m\u001b[0m\u001b[0m\n\u001b[0;32m---> 18\u001b[0;31m     \u001b[0msess\u001b[0m\u001b[0;34m.\u001b[0m\u001b[0mrun\u001b[0m\u001b[0;34m(\u001b[0m\u001b[0mtf\u001b[0m\u001b[0;34m.\u001b[0m\u001b[0mglobal_variables_initializer\u001b[0m\u001b[0;34m(\u001b[0m\u001b[0;34m)\u001b[0m\u001b[0;34m)\u001b[0m\u001b[0;34m\u001b[0m\u001b[0;34m\u001b[0m\u001b[0m\n\u001b[0m\u001b[1;32m     19\u001b[0m     \u001b[0mstep_pos\u001b[0m\u001b[0;34m=\u001b[0m\u001b[0;36m0\u001b[0m\u001b[0;34m\u001b[0m\u001b[0;34m\u001b[0m\u001b[0m\n\u001b[1;32m     20\u001b[0m     \u001b[0mstep_neg\u001b[0m\u001b[0;34m=\u001b[0m\u001b[0;36m0\u001b[0m\u001b[0;34m\u001b[0m\u001b[0;34m\u001b[0m\u001b[0m\n",
      "\u001b[0;32m/home/weber50432/miniconda3/envs/tensorflow/lib/python3.6/site-packages/tensorflow/python/client/session.py\u001b[0m in \u001b[0;36mrun\u001b[0;34m(self, fetches, feed_dict, options, run_metadata)\u001b[0m\n\u001b[1;32m    966\u001b[0m     \u001b[0;32mtry\u001b[0m\u001b[0;34m:\u001b[0m\u001b[0;34m\u001b[0m\u001b[0;34m\u001b[0m\u001b[0m\n\u001b[1;32m    967\u001b[0m       result = self._run(None, fetches, feed_dict, options_ptr,\n\u001b[0;32m--> 968\u001b[0;31m                          run_metadata_ptr)\n\u001b[0m\u001b[1;32m    969\u001b[0m       \u001b[0;32mif\u001b[0m \u001b[0mrun_metadata\u001b[0m\u001b[0;34m:\u001b[0m\u001b[0;34m\u001b[0m\u001b[0;34m\u001b[0m\u001b[0m\n\u001b[1;32m    970\u001b[0m         \u001b[0mproto_data\u001b[0m \u001b[0;34m=\u001b[0m \u001b[0mtf_session\u001b[0m\u001b[0;34m.\u001b[0m\u001b[0mTF_GetBuffer\u001b[0m\u001b[0;34m(\u001b[0m\u001b[0mrun_metadata_ptr\u001b[0m\u001b[0;34m)\u001b[0m\u001b[0;34m\u001b[0m\u001b[0;34m\u001b[0m\u001b[0m\n",
      "\u001b[0;32m/home/weber50432/miniconda3/envs/tensorflow/lib/python3.6/site-packages/tensorflow/python/client/session.py\u001b[0m in \u001b[0;36m_run\u001b[0;34m(self, handle, fetches, feed_dict, options, run_metadata)\u001b[0m\n\u001b[1;32m   1189\u001b[0m     \u001b[0;32mif\u001b[0m \u001b[0mfinal_fetches\u001b[0m \u001b[0;32mor\u001b[0m \u001b[0mfinal_targets\u001b[0m \u001b[0;32mor\u001b[0m \u001b[0;34m(\u001b[0m\u001b[0mhandle\u001b[0m \u001b[0;32mand\u001b[0m \u001b[0mfeed_dict_tensor\u001b[0m\u001b[0;34m)\u001b[0m\u001b[0;34m:\u001b[0m\u001b[0;34m\u001b[0m\u001b[0;34m\u001b[0m\u001b[0m\n\u001b[1;32m   1190\u001b[0m       results = self._do_run(handle, final_targets, final_fetches,\n\u001b[0;32m-> 1191\u001b[0;31m                              feed_dict_tensor, options, run_metadata)\n\u001b[0m\u001b[1;32m   1192\u001b[0m     \u001b[0;32melse\u001b[0m\u001b[0;34m:\u001b[0m\u001b[0;34m\u001b[0m\u001b[0;34m\u001b[0m\u001b[0m\n\u001b[1;32m   1193\u001b[0m       \u001b[0mresults\u001b[0m \u001b[0;34m=\u001b[0m \u001b[0;34m[\u001b[0m\u001b[0;34m]\u001b[0m\u001b[0;34m\u001b[0m\u001b[0;34m\u001b[0m\u001b[0m\n",
      "\u001b[0;32m/home/weber50432/miniconda3/envs/tensorflow/lib/python3.6/site-packages/tensorflow/python/client/session.py\u001b[0m in \u001b[0;36m_do_run\u001b[0;34m(self, handle, target_list, fetch_list, feed_dict, options, run_metadata)\u001b[0m\n\u001b[1;32m   1367\u001b[0m     \u001b[0;32mif\u001b[0m \u001b[0mhandle\u001b[0m \u001b[0;32mis\u001b[0m \u001b[0;32mNone\u001b[0m\u001b[0;34m:\u001b[0m\u001b[0;34m\u001b[0m\u001b[0;34m\u001b[0m\u001b[0m\n\u001b[1;32m   1368\u001b[0m       return self._do_call(_run_fn, feeds, fetches, targets, options,\n\u001b[0;32m-> 1369\u001b[0;31m                            run_metadata)\n\u001b[0m\u001b[1;32m   1370\u001b[0m     \u001b[0;32melse\u001b[0m\u001b[0;34m:\u001b[0m\u001b[0;34m\u001b[0m\u001b[0;34m\u001b[0m\u001b[0m\n\u001b[1;32m   1371\u001b[0m       \u001b[0;32mreturn\u001b[0m \u001b[0mself\u001b[0m\u001b[0;34m.\u001b[0m\u001b[0m_do_call\u001b[0m\u001b[0;34m(\u001b[0m\u001b[0m_prun_fn\u001b[0m\u001b[0;34m,\u001b[0m \u001b[0mhandle\u001b[0m\u001b[0;34m,\u001b[0m \u001b[0mfeeds\u001b[0m\u001b[0;34m,\u001b[0m \u001b[0mfetches\u001b[0m\u001b[0;34m)\u001b[0m\u001b[0;34m\u001b[0m\u001b[0;34m\u001b[0m\u001b[0m\n",
      "\u001b[0;32m/home/weber50432/miniconda3/envs/tensorflow/lib/python3.6/site-packages/tensorflow/python/client/session.py\u001b[0m in \u001b[0;36m_do_call\u001b[0;34m(self, fn, *args)\u001b[0m\n\u001b[1;32m   1373\u001b[0m   \u001b[0;32mdef\u001b[0m \u001b[0m_do_call\u001b[0m\u001b[0;34m(\u001b[0m\u001b[0mself\u001b[0m\u001b[0;34m,\u001b[0m \u001b[0mfn\u001b[0m\u001b[0;34m,\u001b[0m \u001b[0;34m*\u001b[0m\u001b[0margs\u001b[0m\u001b[0;34m)\u001b[0m\u001b[0;34m:\u001b[0m\u001b[0;34m\u001b[0m\u001b[0;34m\u001b[0m\u001b[0m\n\u001b[1;32m   1374\u001b[0m     \u001b[0;32mtry\u001b[0m\u001b[0;34m:\u001b[0m\u001b[0;34m\u001b[0m\u001b[0;34m\u001b[0m\u001b[0m\n\u001b[0;32m-> 1375\u001b[0;31m       \u001b[0;32mreturn\u001b[0m \u001b[0mfn\u001b[0m\u001b[0;34m(\u001b[0m\u001b[0;34m*\u001b[0m\u001b[0margs\u001b[0m\u001b[0;34m)\u001b[0m\u001b[0;34m\u001b[0m\u001b[0;34m\u001b[0m\u001b[0m\n\u001b[0m\u001b[1;32m   1376\u001b[0m     \u001b[0;32mexcept\u001b[0m \u001b[0merrors\u001b[0m\u001b[0;34m.\u001b[0m\u001b[0mOpError\u001b[0m \u001b[0;32mas\u001b[0m \u001b[0me\u001b[0m\u001b[0;34m:\u001b[0m\u001b[0;34m\u001b[0m\u001b[0;34m\u001b[0m\u001b[0m\n\u001b[1;32m   1377\u001b[0m       \u001b[0mmessage\u001b[0m \u001b[0;34m=\u001b[0m \u001b[0mcompat\u001b[0m\u001b[0;34m.\u001b[0m\u001b[0mas_text\u001b[0m\u001b[0;34m(\u001b[0m\u001b[0me\u001b[0m\u001b[0;34m.\u001b[0m\u001b[0mmessage\u001b[0m\u001b[0;34m)\u001b[0m\u001b[0;34m\u001b[0m\u001b[0;34m\u001b[0m\u001b[0m\n",
      "\u001b[0;32m/home/weber50432/miniconda3/envs/tensorflow/lib/python3.6/site-packages/tensorflow/python/client/session.py\u001b[0m in \u001b[0;36m_run_fn\u001b[0;34m(feed_dict, fetch_list, target_list, options, run_metadata)\u001b[0m\n\u001b[1;32m   1358\u001b[0m       \u001b[0mself\u001b[0m\u001b[0;34m.\u001b[0m\u001b[0m_extend_graph\u001b[0m\u001b[0;34m(\u001b[0m\u001b[0;34m)\u001b[0m\u001b[0;34m\u001b[0m\u001b[0;34m\u001b[0m\u001b[0m\n\u001b[1;32m   1359\u001b[0m       return self._call_tf_sessionrun(options, feed_dict, fetch_list,\n\u001b[0;32m-> 1360\u001b[0;31m                                       target_list, run_metadata)\n\u001b[0m\u001b[1;32m   1361\u001b[0m \u001b[0;34m\u001b[0m\u001b[0m\n\u001b[1;32m   1362\u001b[0m     \u001b[0;32mdef\u001b[0m \u001b[0m_prun_fn\u001b[0m\u001b[0;34m(\u001b[0m\u001b[0mhandle\u001b[0m\u001b[0;34m,\u001b[0m \u001b[0mfeed_dict\u001b[0m\u001b[0;34m,\u001b[0m \u001b[0mfetch_list\u001b[0m\u001b[0;34m)\u001b[0m\u001b[0;34m:\u001b[0m\u001b[0;34m\u001b[0m\u001b[0;34m\u001b[0m\u001b[0m\n",
      "\u001b[0;32m/home/weber50432/miniconda3/envs/tensorflow/lib/python3.6/site-packages/tensorflow/python/client/session.py\u001b[0m in \u001b[0;36m_call_tf_sessionrun\u001b[0;34m(self, options, feed_dict, fetch_list, target_list, run_metadata)\u001b[0m\n\u001b[1;32m   1451\u001b[0m     return tf_session.TF_SessionRun_wrapper(self._session, options, feed_dict,\n\u001b[1;32m   1452\u001b[0m                                             \u001b[0mfetch_list\u001b[0m\u001b[0;34m,\u001b[0m \u001b[0mtarget_list\u001b[0m\u001b[0;34m,\u001b[0m\u001b[0;34m\u001b[0m\u001b[0;34m\u001b[0m\u001b[0m\n\u001b[0;32m-> 1453\u001b[0;31m                                             run_metadata)\n\u001b[0m\u001b[1;32m   1454\u001b[0m \u001b[0;34m\u001b[0m\u001b[0m\n\u001b[1;32m   1455\u001b[0m   \u001b[0;32mdef\u001b[0m \u001b[0m_call_tf_sessionprun\u001b[0m\u001b[0;34m(\u001b[0m\u001b[0mself\u001b[0m\u001b[0;34m,\u001b[0m \u001b[0mhandle\u001b[0m\u001b[0;34m,\u001b[0m \u001b[0mfeed_dict\u001b[0m\u001b[0;34m,\u001b[0m \u001b[0mfetch_list\u001b[0m\u001b[0;34m)\u001b[0m\u001b[0;34m:\u001b[0m\u001b[0;34m\u001b[0m\u001b[0;34m\u001b[0m\u001b[0m\n",
      "\u001b[0;31mKeyboardInterrupt\u001b[0m: "
     ]
    }
   ],
   "source": [
    "IMSIZE = 128\n",
    "num_labels=2\n",
    "num_steps = 10000\n",
    "batch_size= 1\n",
    "rpt_interval=100\n",
    "min_nb_images = 1\n",
    "save_dir = \"../output/\"\n",
    "with tf.Session() as sess:\n",
    "    images = tf.placeholder(tf.float32, [None, IMSIZE, IMSIZE, 3])\n",
    "    true_out = tf.placeholder(tf.float32, [None, 2])\n",
    "    train_mode = tf.placeholder(tf.bool)\n",
    "\n",
    "    vgg = vgg19.Vgg19(\"../model/vgg19.npy\", imsize=IMSIZE)\n",
    "    vgg.build_avg_pool(images, train_mode=train_mode)\n",
    "    focal_loss = tf.reduce_mean(\n",
    "    tf.nn.softmax_cross_entropy_with_logits(logits=vgg.new_fc8, labels=true_out)) \n",
    "    train = tf.train.GradientDescentOptimizer(0.0003).minimize(focal_loss)\n",
    "    sess.run(tf.global_variables_initializer())\n",
    "    step_pos=0\n",
    "    step_neg=0\n",
    "    for step in range(1, num_steps+1):\n",
    "        try:  \n",
    "            offset = (step * batch_size) % (len(selected_onehot_labels) - batch_size)\n",
    "            \n",
    "            if step%2==0:\n",
    "                sl_id = positive_ids[step_pos % (positive_ids.shape[0])]\n",
    "                step_pos=step_pos+1\n",
    "            else:\n",
    "                sl_id = negative_ids[step_neg % (negative_ids.shape[0])]\n",
    "                step_neg=step_neg+1\n",
    "\n",
    "            slides=utils.load_folder_random(selected_slides[sl_id], max_no_img=100, crop_size=IMSIZE)\n",
    "            if len(slides)>min_nb_images:\n",
    "                slides = np.array(slides)\n",
    "                labels = np.reshape(selected_onehot_labels[sl_id], (batch_size, num_labels))\n",
    "                _,l = sess.run([train, focal_loss], feed_dict={images: slides, true_out: labels, train_mode: True})\n",
    "            if (step % rpt_interval == 0):\n",
    "                print('Minibatch loss at step %d: %f' % (step, l))     \n",
    "            if (step % 50 == 0):   \n",
    "                save_path = os.path.join(save_dir,\"max_pool_vgg19_model.npy\")\n",
    "                vgg.save_npy(sess, save_path)\n",
    "                print(\"Model saved in file: %s\" % save_path)    \n",
    "        except IOError as e:\n",
    "            print('Could not read:', selected_slides[offset], ':', e, '- it\\'s ok, skipping.')        \n",
    "\n",
    "# test classification again, should have a higher probability about tiger\n",
    "    prediction_csv = dataset.split(os.path.sep)[-2]+'_mv_all_normal_max_pool2.csv' \n",
    "    header=['Slide-Id', 'True', 'Predicted']\n",
    "    predictionFile= open(os.path.join(\"../output/\", prediction_csv),'w')  \n",
    "    wr = csv.writer(predictionFile, dialect='excel')\n",
    "    wr.writerow(header)    \n",
    "    predicted_classif = np.zeros(len(test_slides))\n",
    "    true_classif = np.zeros(len(test_slides))\n",
    "    for tt in range(len(test_slides)):\n",
    "        \n",
    "        classify_voting=[]\n",
    "        probs=[]\n",
    "        for run in range(1):\n",
    "        #tslides = utils.load_folder(test_slides[tt], crop_size=64)\n",
    "            tslides=utils.load_folder_random(test_slides[tt], max_no_img=4, crop_size=IMSIZE)\n",
    "        \n",
    "            tslide_id = test_slides[tt].split(os.path.sep)[-1]\n",
    "            malaria_classif=0\n",
    "            if len(tslides)>min_nb_images:\n",
    "                tslides = np.array(tslides)\n",
    "\n",
    "                prob = sess.run(vgg.new_prob, feed_dict={images: tslides, train_mode: False})\n",
    "                #print(prob)\n",
    "                classify_voting.append(np.argmax(prob))\n",
    "                probs.append(prob[0,1])\n",
    "        sel_id = list(test_csv_slide_ids).index(tslide_id)\n",
    "        true_classif[tt] = test_csv_labels[sel_id]\n",
    "        predicted_classif[tt]=majority_voting(classify_voting)\n",
    "        #predicted_classif[tt]=max(classify_voting)\n",
    "        wr.writerow([tslide_id, true_classif[tt], predicted_classif[tt], np.mean(probs)])  \n",
    "        print(tslide_id, true_classif[tt], predicted_classif[tt], np.mean(probs))\n",
    "        \n",
    "        \n",
    "        \n",
    "    \n",
    "\n",
    "    overall_accuracy=np.mean(true_classif==predicted_classif)    \n",
    "    print('Overall accuracy', overall_accuracy)\n",
    "    true_pos = true_classif[true_classif==1]\n",
    "    pred_pos = predicted_classif[true_classif==1]\n",
    "    positive_accuracy=np.mean(true_pos==pred_pos)\n",
    "    print('Postive accuracy', positive_accuracy)\n",
    "    true_neg = true_classif[true_classif==0]    \n",
    "    pred_neg = predicted_classif[true_classif==0]\n",
    "    negative_accuracy=np.mean(true_neg==pred_neg)\n",
    "    print('Negative accuracy', negative_accuracy)   "
   ]
  }
 ],
 "metadata": {
  "kernelspec": {
   "display_name": "ML",
   "language": "python",
   "name": "python3"
  },
  "language_info": {
   "codemirror_mode": {
    "name": "ipython",
    "version": 3
   },
   "file_extension": ".py",
   "mimetype": "text/x-python",
   "name": "python",
   "nbconvert_exporter": "python",
   "pygments_lexer": "ipython3",
   "version": "3.6.13"
  },
  "orig_nbformat": 4
 },
 "nbformat": 4,
 "nbformat_minor": 2
}

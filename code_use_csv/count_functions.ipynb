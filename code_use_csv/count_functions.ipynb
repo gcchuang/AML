{
 "cells": [
  {
   "attachments": {},
   "cell_type": "markdown",
   "metadata": {},
   "source": [
    "# functions"
   ]
  },
  {
   "cell_type": "code",
   "execution_count": 2,
   "metadata": {},
   "outputs": [],
   "source": [
    "import pandas as pd\n",
    "import warnings\n",
    "warnings.filterwarnings('ignore')"
   ]
  },
  {
   "cell_type": "code",
   "execution_count": 3,
   "metadata": {},
   "outputs": [],
   "source": [
    "# get the  absolute path of slides\n",
    "def get_slides_list(slide_path):\n",
    "  slide_list = os.listdir(slide_path)\n",
    "  slide_list = [int(\"\".join(filter(str.isdigit, i))) for i in slide_list]\n",
    "  slide_list.sort()\n",
    "  slide_list = [slide_path + \"A\" +str(x) +\".ndpi\" for x in slide_list]\n",
    "  return slide_list"
   ]
  },
  {
   "cell_type": "code",
   "execution_count": 4,
   "metadata": {},
   "outputs": [],
   "source": [
    "# get the number list of slides\n",
    "def get_slides_list_number(slide_path):\n",
    "  slide_list = os.listdir(slide_path)\n",
    "  slide_list = [int(\"\".join(filter(str.isdigit, i))) for i in slide_list]\n",
    "  slide_list.sort()\n",
    "  return slide_list"
   ]
  },
  {
   "cell_type": "code",
   "execution_count": 5,
   "metadata": {},
   "outputs": [],
   "source": [
    "#get target gene targets list ( 0 : benign slide, 1: tumor slide )\n",
    "def get_targets_list(gene,slide_path,info_file_path):\n",
    "  slide_list = get_slides_list_number(slide_path)\n",
    "  df = pd.read_csv(info_file_path, sep=\",\", encoding=\"utf-8\")\n",
    "  result = df[df[\"UPN, c4lab\"].isin(slide_list)]\n",
    "  targets_list = result[gene].astype(int).tolist()\n",
    "  return targets_list"
   ]
  },
  {
   "attachments": {},
   "cell_type": "markdown",
   "metadata": {},
   "source": [
    "# testing area"
   ]
  },
  {
   "cell_type": "code",
   "execution_count": 6,
   "metadata": {},
   "outputs": [
    {
     "name": "stdout",
     "output_type": "stream",
     "text": [
      "['/home/exon_storage1/aml_slide/renameByUPN/A3.ndpi', '/home/exon_storage1/aml_slide/renameByUPN/A9.ndpi', '/home/exon_storage1/aml_slide/renameByUPN/A12.ndpi', '/home/exon_storage1/aml_slide/renameByUPN/A13.ndpi', '/home/exon_storage1/aml_slide/renameByUPN/A22.ndpi']\n"
     ]
    }
   ],
   "source": [
    "slide_path = \"/home/exon_storage1/aml_slide/renameByUPN/\"\n",
    "list = get_slides_list(slide_path)\n",
    "print(list[:5])"
   ]
  },
  {
   "cell_type": "code",
   "execution_count": 7,
   "metadata": {},
   "outputs": [
    {
     "data": {
      "text/plain": [
       "ITD NGS+PCR         112\n",
       "DNMT3A              111\n",
       "NPM1                108\n",
       "NRAS                 97\n",
       "ASXL1                92\n",
       "CEBPA NGS+Direct     89\n",
       "RUNX1                89\n",
       "TET2                 87\n",
       "IDH2                 73\n",
       "TP53                 64\n",
       "dtype: int64"
      ]
     },
     "execution_count": 7,
     "metadata": {},
     "output_type": "execute_result"
    }
   ],
   "source": [
    "slide_list = get_slides_list_number(slide_path)\n",
    "df = pd.read_csv(\"changeSlideName.csv\", sep=\",\", encoding=\"utf-8\")\n",
    "gene =df.columns[df.columns.get_loc(\"CEBPA NGS+Direct\"):df.columns.get_loc(\"BCOR\")+1]\n",
    "result = df[df[\"UPN, c4lab\"].isin(slide_list)]\n",
    "result['UPN, c4lab'] = result['UPN, c4lab'] .apply(lambda x: 'A' + str(x))\n",
    "result.set_index(\"UPN, c4lab\", inplace=True)\n",
    "result = result.loc[:,gene]\n",
    "# ranking the gene\n",
    "column_sum = result.sum(axis=0).astype(int)\n",
    "column_sum = column_sum.sort_values(ascending=False)\n",
    "column_sum[:10]"
   ]
  },
  {
   "cell_type": "code",
   "execution_count": 8,
   "metadata": {},
   "outputs": [
    {
     "name": "stdout",
     "output_type": "stream",
     "text": [
      "[0, 1, 0, 0, 0]\n",
      "[0, 1, 0, 0, 0]\n",
      "yes\n"
     ]
    }
   ],
   "source": [
    "DNMT3A_list = result[\"DNMT3A\"].astype(int).tolist()\n",
    "print(DNMT3A_list[:5])\n",
    "target = get_targets_list(\"DNMT3A\",slide_path,\"changeSlideName.csv\")\n",
    "print(target[:5])\n",
    "if target == DNMT3A_list:\n",
    "    print(\"yes\")\n"
   ]
  }
 ],
 "metadata": {
  "kernelspec": {
   "display_name": "AML",
   "language": "python",
   "name": "python3"
  },
  "language_info": {
   "codemirror_mode": {
    "name": "ipython",
    "version": 3
   },
   "file_extension": ".py",
   "mimetype": "text/x-python",
   "name": "python",
   "nbconvert_exporter": "python",
   "pygments_lexer": "ipython3",
   "version": "3.10.9"
  },
  "orig_nbformat": 4,
  "vscode": {
   "interpreter": {
    "hash": "1f232f962faf98c666526a91f43bdf4fdf8ec3ccc29d01b8c9967d9c5017bdac"
   }
  }
 },
 "nbformat": 4,
 "nbformat_minor": 2
}

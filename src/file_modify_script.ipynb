{
 "cells": [
  {
   "cell_type": "code",
   "execution_count": null,
   "metadata": {},
   "outputs": [],
   "source": [
    "import pandas as pd\n",
    "import os\n",
    "import shutil\n",
    "import xlwt\n",
    "from xlwt import Workbook\n",
    "import xlrd"
   ]
  },
  {
   "cell_type": "code",
   "execution_count": null,
   "metadata": {},
   "outputs": [],
   "source": [
    "# replace the // with / in excel file in the output folder\n",
    "excel_path = \"/home/weber50432/AML_image_processing/HCT_region_select/output/A13/porduction_result.xls\"\n",
    "if os.path.exists(excel_path):\n",
    "  wb = xlrd.open_workbook(excel_path)\n",
    "  sheet1 = wb.sheet_by_index(0)\n",
    "  sheet2 = wb.sheet_by_index(1)\n",
    "  pos_list = sheet1.col_values(0)\n",
    "  neg_list = sheet2.col_values(0)\n",
    "  pos_list.pop(0)\n",
    "  neg_list.pop(0)\n",
    "  wb = Workbook()\n",
    "  sheetNumber0 = wb.add_sheet('Sheet 0')\n",
    "  sheetNumber1 = wb.add_sheet('Sheet 1')\n",
    "\n",
    "  row = 0\n",
    "  sheetNumber0.write(row, 0, 'Posivitve List')\n",
    "  sheetNumber0.write(row, 1, len(pos_list))\n",
    "  row += 1\n",
    "  for i in pos_list:\n",
    "    new_string = i.replace(\"//\", \"/\")\n",
    "    sheetNumber0.write(row, 0, new_string)\n",
    "    row += 1\n",
    "\n",
    "  row = 0\n",
    "  sheetNumber1.write(row, 0, 'Negative List')\n",
    "  sheetNumber1.write(row, 1, len(neg_list))\n",
    "  row += 1\n",
    "  for i in neg_list:\n",
    "    new_string = i.replace(\"//\", \"/\")\n",
    "    sheetNumber1.write(row, 0, new_string)\n",
    "    row += 1\n",
    "  wb.save(excel_path)"
   ]
  }
 ],
 "metadata": {
  "language_info": {
   "name": "python"
  },
  "orig_nbformat": 4
 },
 "nbformat": 4,
 "nbformat_minor": 2
}

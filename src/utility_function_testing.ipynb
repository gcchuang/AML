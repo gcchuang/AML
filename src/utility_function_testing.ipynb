{
 "cells": [
  {
   "cell_type": "code",
   "execution_count": null,
   "metadata": {},
   "outputs": [],
   "source": [
    "import utility_functions as uf"
   ]
  },
  {
   "cell_type": "code",
   "execution_count": null,
   "metadata": {},
   "outputs": [
    {
     "name": "stdout",
     "output_type": "stream",
     "text": [
      "slide 413 done, slect 500 patches from 1356 total patches.\n",
      "500\n",
      "[(97280, 26368), (110080, 77056), (94720, 31232), (98048, 79104), (112128, 69888), (118272, 31744), (112640, 72192), (95744, 23040), (113152, 73216), (95488, 35072)]\n"
     ]
    }
   ],
   "source": [
    "# test the get_grid function\n",
    "y = uf.get_grid(\"/home/exon_storage1/aml_slide/\",[413],256,0.6,0.15,500)\n",
    "print(len(y[0]))\n",
    "print(y[0][:10])"
   ]
  },
  {
   "cell_type": "code",
   "execution_count": null,
   "metadata": {},
   "outputs": [
    {
     "name": "stdout",
     "output_type": "stream",
     "text": [
      "[3, 9, 12, 13, 22, 26, 27, 28, 29, 60, 99, 102, 103, 104, 105, 106, 108, 109, 113, 121, 123, 129, 130, 131, 133, 134, 135, 137, 138, 140, 145, 146, 147, 148, 149, 150, 151, 152, 153, 154, 156, 158, 159, 160, 161, 162, 163, 165, 166, 167, 168, 169, 171, 172, 173, 174, 176, 177, 178, 180, 197, 199, 200, 201, 203, 204, 205, 206, 207, 208, 209, 212, 217, 219, 220, 227, 230, 231, 232, 233, 234, 235, 238, 239, 241, 242, 244, 265, 273, 274, 280, 299, 314, 317, 319, 320, 322, 323, 330, 331, 332, 333, 334, 335, 336, 337, 338, 341, 342, 343, 344, 345, 347, 348, 349, 350, 352, 353, 355, 357, 359, 360, 361, 363, 364, 365, 366, 367, 369, 370, 371, 372, 373, 374, 377, 378, 380, 381, 382, 383, 386, 387, 390, 392, 393, 395, 397, 1001]\n",
      "148\n"
     ]
    }
   ],
   "source": [
    "# test the get_patches_grid function\n",
    "path = \"/home/weber50432/AML_image_processing/HCT_region_select/output/\"\n",
    "slide_list = os.listdir(path)\n",
    "# remove the \"A\" in each element in the list\n",
    "slide_list = [int(i[1:]) for i in slide_list]\n",
    "slide_list.sort()\n",
    "print(slide_list)\n",
    "print(len(slide_list))\n",
    "# grid = uf.get_patches_grid(path,slide_list,1)\n",
    "# print(grid)"
   ]
  }
 ],
 "metadata": {
  "language_info": {
   "name": "python"
  },
  "orig_nbformat": 4
 },
 "nbformat": 4,
 "nbformat_minor": 2
}

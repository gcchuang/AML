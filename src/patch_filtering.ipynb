{
 "cells": [
  {
   "cell_type": "code",
   "execution_count": 1,
   "metadata": {},
   "outputs": [],
   "source": [
    "import pandas as pd\n",
    "import numpy as np\n",
    "import torch\n",
    "import os\n",
    "import shutil\n",
    "import sys\n",
    "from PIL import Image\n",
    "import utility_functions as uf"
   ]
  },
  {
   "attachments": {},
   "cell_type": "markdown",
   "metadata": {},
   "source": [
    "# testing area"
   ]
  },
  {
   "cell_type": "code",
   "execution_count": 2,
   "metadata": {},
   "outputs": [
    {
     "name": "stdout",
     "output_type": "stream",
     "text": [
      "A474 : 9026\n",
      "A1019 : 9448\n",
      "A745 : 8617\n",
      "A966 : 8314\n",
      "A446 : 9581\n",
      "A382 : 5811\n",
      "A1093 : 5616\n",
      "A168 : 7912\n",
      "A991 : 5836\n",
      "A978 : 7972\n",
      "A1199 : 6236\n",
      "A763 : 9567\n",
      "A531 : 9305\n",
      "A882 : 7313\n",
      "A916 : 9651\n",
      "A230 : 8442\n",
      "A876 : 9850\n",
      "A943 : 8468\n",
      "A934 : 8564\n",
      "A102 : 9910\n",
      "A1122 : 3731\n",
      "A820 : 6298\n",
      "A1165 : 7669\n",
      "A1027 : 2213\n",
      "A1101 : 6445\n",
      "A974 : 3849\n",
      "A408 : 7267\n",
      "A989 : 8523\n",
      "A299 is not processed yet\n",
      "A415 : 8853\n",
      "A465 : 9344\n",
      "A1047 : 9682\n",
      "A993 : 9656\n",
      "A506 : 8665\n"
     ]
    }
   ],
   "source": [
    "#check if all the slides are processed to patches, and find the number of patches is less than 10000\n",
    "directory_path = '/home/exon_storage1/aml_slide/patches/'\n",
    "for file in os.listdir(directory_path):\n",
    "    if  os.path.exists(directory_path+file+\"/rightside_patch\"):\n",
    "        patches_path = directory_path+file+\"/rightside_patch/\"\n",
    "        number_of_patches = len(os.listdir(patches_path))\n",
    "        if number_of_patches <= 10000:\n",
    "            print( file+\" : \"+str(len(os.listdir(patches_path))))\n",
    "    else:\n",
    "        print(file+\" is not processed yet\")"
   ]
  },
  {
   "cell_type": "code",
   "execution_count": null,
   "metadata": {},
   "outputs": [],
   "source": [
    "#this is a script to remove the slides with the suffix of x or Rx, and rename the slides with the suffix of Lx\n",
    "path = \"/home/exon_storage1/aml_slide/patches/\"\n",
    "for file in os.listdir(path):\n",
    "    detector = file.split(\"_\")[-1]\n",
    "    detector = detector.split(\".\")[0]\n",
    "    if detector ==\"Lx\":\n",
    "        oldname = path+file\n",
    "        newname = oldname.replace(\"_Lx\",\"\")\n",
    "        print(oldname)\n",
    "        os.rename(oldname, newname)\n",
    "    elif detector == \"x\" or detector == \"Rx\":\n",
    "        print(path+file)\n",
    "        # os.remove(path+file)\n",
    "        shutil.rmtree(path+file)"
   ]
  },
  {
   "cell_type": "code",
   "execution_count": null,
   "metadata": {},
   "outputs": [],
   "source": [
    "#this script is used to normalize the patches and save them in a new folder, with a blurry filter\n",
    "sys.path.insert(1, '/home/weber50432/AML_image_processing/HEnorm_python/')\n",
    "from normalizeStaining import normalizeStaining , is_blurry\n",
    "directory_path = '/home/weber50432/AML_image_processing/PyHIST/output/'\n",
    "for file in os.listdir(directory_path):\n",
    "    if  os.path.exists(directory_path+file+\"/rightside_patch\"):\n",
    "        patches_path = directory_path+file+\"/rightside_patch/\"\n",
    "        if os.path.exists(directory_path+file+\"/rightside_patch_norm\"):\n",
    "            print(file + \" rightside_patch_norm is already created !\")\n",
    "            continue\n",
    "        else:\n",
    "            os.mkdir(directory_path+file+\"/rightside_patch_norm/\")\n",
    "        if os.path.exists(directory_path+file+\"/rightside_patch_blurry\"):\n",
    "            print(file + \" rightside_patch_blurry is already created !\")\n",
    "        else:\n",
    "            os.mkdir(directory_path+file+\"/rightside_patch_blurry/\")\n",
    "        patches_path_blurry = directory_path+file+\"/rightside_patch_blurry/\"\n",
    "        patches_path_norm = directory_path+file+\"/rightside_patch_norm/\"\n",
    "        for img in os.listdir(patches_path):\n",
    "            if img.endswith(\".png\"):\n",
    "                img_num = str(img)\n",
    "                img_path = patches_path+img\n",
    "                img = np.array(Image.open(img_path))\n",
    "                Inorm, H, E = normalizeStaining(img = img,\n",
    "                      saveFile = None,\n",
    "                      Io = 240,\n",
    "                      alpha = 1,\n",
    "                      beta = 0.15)\n",
    "                if is_blurry(Inorm):\n",
    "                    Image.fromarray(Inorm).save(patches_path_blurry+img_num)\n",
    "                    # os.remove(img_path)\n",
    "                    print(img_num+\" is blurry !\")\n",
    "                else:\n",
    "                    Image.fromarray(Inorm).save(patches_path_norm+img_num)\n",
    "                    print(img_num+\" is saved !\")"
   ]
  }
 ],
 "metadata": {
  "kernelspec": {
   "display_name": "AML",
   "language": "python",
   "name": "python3"
  },
  "language_info": {
   "codemirror_mode": {
    "name": "ipython",
    "version": 3
   },
   "file_extension": ".py",
   "mimetype": "text/x-python",
   "name": "python",
   "nbconvert_exporter": "python",
   "pygments_lexer": "ipython3",
   "version": "3.9.16"
  },
  "orig_nbformat": 4,
  "vscode": {
   "interpreter": {
    "hash": "1f232f962faf98c666526a91f43bdf4fdf8ec3ccc29d01b8c9967d9c5017bdac"
   }
  }
 },
 "nbformat": 4,
 "nbformat_minor": 2
}

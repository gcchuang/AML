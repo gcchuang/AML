{
 "cells": [
  {
   "cell_type": "code",
   "execution_count": 2,
   "metadata": {},
   "outputs": [],
   "source": [
    "import pandas as pd\n",
    "import numpy as np\n",
    "import torch\n",
    "import os\n",
    "import shutil\n",
    "import sys\n",
    "from PIL import Image\n",
    "import utility_functions as uf"
   ]
  },
  {
   "attachments": {},
   "cell_type": "markdown",
   "metadata": {},
   "source": [
    "# testing area"
   ]
  },
  {
   "cell_type": "code",
   "execution_count": null,
   "metadata": {},
   "outputs": [],
   "source": [
    "#check if all the slides are processed to patches, and find the number of patches is less than 10000\n",
    "directory_path = '/home/exon_storage1/aml_slide/patches/'\n",
    "for file in os.listdir(directory_path):\n",
    "    if  os.path.exists(directory_path+file+\"/rightside_patch\"):\n",
    "        patches_path = directory_path+file+\"/rightside_patch/\"\n",
    "        number_of_patches = len(os.listdir(patches_path))\n",
    "        if number_of_patches <= 10000:\n",
    "            print( file+\" : \"+str(len(os.listdir(patches_path))))\n",
    "    else:\n",
    "        print(file+\" is not processed yet\")"
   ]
  },
  {
   "cell_type": "code",
   "execution_count": 8,
   "metadata": {},
   "outputs": [
    {
     "name": "stdout",
     "output_type": "stream",
     "text": [
      "/home/exon_storage1/aml_slide/renameByUPN/A877_x.ndpi\n",
      "/home/exon_storage1/aml_slide/renameByUPN/A909_x.ndpi\n",
      "/home/exon_storage1/aml_slide/renameByUPN/A152_Lx.ndpi\n",
      "/home/exon_storage1/aml_slide/renameByUPN/A503_Rx.ndpi\n",
      "/home/exon_storage1/aml_slide/renameByUPN/A483_x.ndpi\n",
      "/home/exon_storage1/aml_slide/renameByUPN/A1052_x.ndpi\n",
      "/home/exon_storage1/aml_slide/renameByUPN/A910_x.ndpi\n",
      "/home/exon_storage1/aml_slide/renameByUPN/A823_x.ndpi\n",
      "/home/exon_storage1/aml_slide/renameByUPN/A529_x.ndpi\n",
      "/home/exon_storage1/aml_slide/renameByUPN/A927_x.ndpi\n",
      "/home/exon_storage1/aml_slide/renameByUPN/A481_x.ndpi\n",
      "/home/exon_storage1/aml_slide/renameByUPN/A201_Lx.ndpi\n",
      "/home/exon_storage1/aml_slide/renameByUPN/A1163_x.ndpi\n",
      "/home/exon_storage1/aml_slide/renameByUPN/A1050_x.ndpi\n",
      "/home/exon_storage1/aml_slide/renameByUPN/A458_Rx.ndpi\n",
      "/home/exon_storage1/aml_slide/renameByUPN/A470_x.ndpi\n",
      "/home/exon_storage1/aml_slide/renameByUPN/A1152_x.ndpi\n",
      "/home/exon_storage1/aml_slide/renameByUPN/A1020_Rx.ndpi\n",
      "/home/exon_storage1/aml_slide/renameByUPN/A1125_x.ndpi\n",
      "/home/exon_storage1/aml_slide/renameByUPN/A961_x.ndpi\n",
      "/home/exon_storage1/aml_slide/renameByUPN/A1168_x.ndpi\n",
      "/home/exon_storage1/aml_slide/renameByUPN/A175_x.ndpi\n",
      "/home/exon_storage1/aml_slide/renameByUPN/A272_Rx.ndpi\n",
      "/home/exon_storage1/aml_slide/renameByUPN/A153_Lx.ndpi\n",
      "/home/exon_storage1/aml_slide/renameByUPN/A218_x.ndpi\n",
      "/home/exon_storage1/aml_slide/renameByUPN/A1216_Rx.ndpi\n",
      "/home/exon_storage1/aml_slide/renameByUPN/A277_x.ndpi\n",
      "/home/exon_storage1/aml_slide/renameByUPN/A142_Rx.ndpi\n",
      "/home/exon_storage1/aml_slide/renameByUPN/A937_Rx.ndpi\n",
      "/home/exon_storage1/aml_slide/renameByUPN/A23_x.ndpi\n",
      "/home/exon_storage1/aml_slide/renameByUPN/A1026_Rx.ndpi\n",
      "/home/exon_storage1/aml_slide/renameByUPN/A484_Rx.ndpi\n",
      "/home/exon_storage1/aml_slide/renameByUPN/A132_Rx.ndpi\n",
      "/home/exon_storage1/aml_slide/renameByUPN/A972_x.ndpi\n",
      "/home/exon_storage1/aml_slide/renameByUPN/A969_x.ndpi\n",
      "/home/exon_storage1/aml_slide/renameByUPN/A1176_x.ndpi\n",
      "/home/exon_storage1/aml_slide/renameByUPN/A356_Rx.ndpi\n",
      "/home/exon_storage1/aml_slide/renameByUPN/A526_Rx.ndpi\n",
      "/home/exon_storage1/aml_slide/renameByUPN/A466_Lx.ndpi\n",
      "/home/exon_storage1/aml_slide/renameByUPN/A1141_x.ndpi\n",
      "/home/exon_storage1/aml_slide/renameByUPN/A1091_x.ndpi\n",
      "/home/exon_storage1/aml_slide/renameByUPN/A1139_x.ndpi\n",
      "/home/exon_storage1/aml_slide/renameByUPN/A480_x.ndpi\n",
      "/home/exon_storage1/aml_slide/renameByUPN/A1143_x.ndpi\n",
      "/home/exon_storage1/aml_slide/renameByUPN/A1197_Lx.ndpi\n",
      "/home/exon_storage1/aml_slide/renameByUPN/A246_x.ndpi\n"
     ]
    }
   ],
   "source": [
    "#this is a script to remove the slides with the suffix of x or Rx, and rename the slides with the suffix of Lx\n",
    "path = \"/home/exon_storage1/aml_slide/renameByUPN/\"\n",
    "for file in os.listdir(path):\n",
    "    detector = file.split(\"_\")[-1]\n",
    "    detector = detector.split(\".\")[0]\n",
    "    if detector ==\"Lx\":\n",
    "        oldname = path+file\n",
    "        newname = oldname.replace(\"_Lx\",\"\")\n",
    "        print(oldname)\n",
    "        os.rename(oldname, newname)\n",
    "    elif detector == \"x\" or detector == \"Rx\":\n",
    "        print(path+file)\n",
    "        os.remove(path+file)\n",
    "        # shutil.rmtree(path+file)"
   ]
  },
  {
   "cell_type": "code",
   "execution_count": null,
   "metadata": {},
   "outputs": [],
   "source": [
    "#this script is used to normalize the patches and save them in a new folder, with a blurry filter\n",
    "sys.path.insert(1, '/home/weber50432/AML_image_processing/HEnorm_python/')\n",
    "from normalizeStaining import normalizeStaining , is_blurry\n",
    "directory_path = '/home/weber50432/AML_image_processing/PyHIST/output/'\n",
    "for file in os.listdir(directory_path):\n",
    "    if  os.path.exists(directory_path+file+\"/rightside_patch\"):\n",
    "        patches_path = directory_path+file+\"/rightside_patch/\"\n",
    "        if os.path.exists(directory_path+file+\"/rightside_patch_norm\"):\n",
    "            print(file + \" rightside_patch_norm is already created !\")\n",
    "            continue\n",
    "        else:\n",
    "            os.mkdir(directory_path+file+\"/rightside_patch_norm/\")\n",
    "        if os.path.exists(directory_path+file+\"/rightside_patch_blurry\"):\n",
    "            print(file + \" rightside_patch_blurry is already created !\")\n",
    "        else:\n",
    "            os.mkdir(directory_path+file+\"/rightside_patch_blurry/\")\n",
    "        patches_path_blurry = directory_path+file+\"/rightside_patch_blurry/\"\n",
    "        patches_path_norm = directory_path+file+\"/rightside_patch_norm/\"\n",
    "        for img in os.listdir(patches_path):\n",
    "            if img.endswith(\".png\"):\n",
    "                img_num = str(img)\n",
    "                img_path = patches_path+img\n",
    "                img = np.array(Image.open(img_path))\n",
    "                Inorm, H, E = normalizeStaining(img = img,\n",
    "                      saveFile = None,\n",
    "                      Io = 240,\n",
    "                      alpha = 1,\n",
    "                      beta = 0.15)\n",
    "                if is_blurry(Inorm):\n",
    "                    Image.fromarray(Inorm).save(patches_path_blurry+img_num)\n",
    "                    # os.remove(img_path)\n",
    "                    print(img_num+\" is blurry !\")\n",
    "                else:\n",
    "                    Image.fromarray(Inorm).save(patches_path_norm+img_num)\n",
    "                    print(img_num+\" is saved !\")"
   ]
  },
  {
   "cell_type": "code",
   "execution_count": null,
   "metadata": {},
   "outputs": [],
   "source": [
    "patches_size = 256\n",
    "slide =13\n",
    "path1 = '/home/exon_storage1/aml_slide/otsu_0.9/A{}/tile_selection.tsv'.format(slide)\n",
    "path2 = '/home/exon_storage1/aml_slide/otsu_1.0/A{}/tile_selection.tsv'.format(slide)\n",
    "list1, num1 = uf.get_coordinates(path1,patches_size,0.6,0.2)\n",
    "list2, num2 = uf.get_coordinates(path2,patches_size,0.6,0.2)\n",
    "print(list1[:5])\n",
    "print(list2[:5])\n",
    "print(num1)\n",
    "print(num2)\n",
    "set1 = set(list1)\n",
    "set2 = set(list2)\n",
    "difference = set1.difference(set2)\n",
    "result = list(difference)\n",
    "print(result)\n",
    "print(len(result),type(result[0]))\n",
    "grid = []\n",
    "grid.append([(1,2),(2,3)])\n",
    "grid.append([(2,2),(2,3)])\n",
    "print(grid[:2][:5])\n",
    "output = {\n",
    "    \"slides\": [\"my/full/path/slide01.svs\", \"my/full/path/slide02.svs\"],\n",
    "    \"grid\": grid\n",
    "    ,\n",
    "    \"targets\": [0, 1],\n",
    "    \"mult\": patches_size/224,\n",
    "    \"level\": 0,\n",
    "}\n",
    "\n",
    "# torch.save(output, \"./data.pt\")\n"
   ]
  },
  {
   "cell_type": "code",
   "execution_count": null,
   "metadata": {},
   "outputs": [],
   "source": [
    "lib = torch.load(\"./data.pt\")\n",
    "grid = []\n",
    "slideIDX = []\n",
    "for i,g in enumerate(lib['grid']):\n",
    "  grid.extend(g)\n",
    "  slideIDX.extend([i]*len(g))\n",
    "\n",
    "print('Number of tiles: {}'.format(len(grid)))"
   ]
  },
  {
   "cell_type": "code",
   "execution_count": null,
   "metadata": {},
   "outputs": [],
   "source": [
    "list1 = [(40448, 240640), (40448, 241152), (40448, 241664), (40448, 242176), (40448, 242688)]\n",
    "list2 = [(40448, 240640), (40448, 241152), (40448, 241664), (404481, 242176), (40448, 242688)]\n",
    "\n",
    "set1 = set(list1)\n",
    "set2 = set(list2)\n",
    "\n",
    "difference = set2.difference(set1)\n",
    "\n",
    "result = list(difference)\n",
    "\n",
    "print(result)"
   ]
  },
  {
   "cell_type": "code",
   "execution_count": null,
   "metadata": {},
   "outputs": [],
   "source": []
  }
 ],
 "metadata": {
  "kernelspec": {
   "display_name": "AML",
   "language": "python",
   "name": "python3"
  },
  "language_info": {
   "codemirror_mode": {
    "name": "ipython",
    "version": 3
   },
   "file_extension": ".py",
   "mimetype": "text/x-python",
   "name": "python",
   "nbconvert_exporter": "python",
   "pygments_lexer": "ipython3",
   "version": "3.9.16"
  },
  "orig_nbformat": 4,
  "vscode": {
   "interpreter": {
    "hash": "1f232f962faf98c666526a91f43bdf4fdf8ec3ccc29d01b8c9967d9c5017bdac"
   }
  }
 },
 "nbformat": 4,
 "nbformat_minor": 2
}

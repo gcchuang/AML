{
 "cells": [
  {
   "attachments": {},
   "cell_type": "markdown",
   "metadata": {},
   "source": [
    "# functions"
   ]
  },
  {
   "cell_type": "code",
   "execution_count": 1,
   "metadata": {},
   "outputs": [],
   "source": [
    "import pandas as pd\n",
    "import warnings\n",
    "import os\n",
    "import utility_functions as uf\n",
    "warnings.filterwarnings('ignore')"
   ]
  },
  {
   "cell_type": "code",
   "execution_count": 2,
   "metadata": {},
   "outputs": [],
   "source": [
    "# get the  absolute path of slides\n",
    "def make_slides_list(slide_path ,slide_list):\n",
    "  slide_list.sort()\n",
    "  slide_list = [slide_path + \"A\" +str(x) +\".ndpi\" for x in slide_list]\n",
    "  return slide_list"
   ]
  },
  {
   "cell_type": "code",
   "execution_count": 3,
   "metadata": {},
   "outputs": [],
   "source": [
    "# get the number list of slides\n",
    "def get_slides_list_number(slide_path):\n",
    "  slide_list = os.listdir(slide_path)\n",
    "  slide_list = [int(\"\".join(filter(str.isdigit, i))) for i in slide_list]\n",
    "  slide_list.sort()\n",
    "  return slide_list"
   ]
  },
  {
   "cell_type": "code",
   "execution_count": 4,
   "metadata": {},
   "outputs": [],
   "source": [
    "#get target gene targets list ( 0 : benign slide, 1: tumor slide )\n",
    "def get_targets_list(gene,slide_path,info_file_path):\n",
    "  slide_list = get_slides_list_number(slide_path)\n",
    "  df = pd.read_csv(info_file_path, sep=\",\", encoding=\"utf-8\")\n",
    "  result = df[df[\"UPN, c4lab\"].isin(slide_list)]\n",
    "  targets_list = result[gene].astype(int).tolist()\n",
    "  return targets_list"
   ]
  },
  {
   "attachments": {},
   "cell_type": "markdown",
   "metadata": {},
   "source": [
    "# testing area"
   ]
  },
  {
   "cell_type": "code",
   "execution_count": 5,
   "metadata": {},
   "outputs": [
    {
     "name": "stdout",
     "output_type": "stream",
     "text": [
      "two lists are the same and the length of lists are : 574\n",
      "[3, 9, 12, 13, 22, 25, 26, 27, 28, 29, 59, 60, 99, 102, 103, 104, 105, 106, 108, 109]\n"
     ]
    }
   ],
   "source": [
    "slide_path = \"/home/exon_storage1/aml_slide/\"\n",
    "slide_path_otsu_1 = slide_path+\"otsu_1.0/\"\n",
    "slide_path_otsu_2 = slide_path+\"otsu_0.9/\"\n",
    "slide_list = uf.get_slides_list_number(slide_path_otsu_1)\n",
    "slide_list2 = uf.get_slides_list_number(slide_path_otsu_2)\n",
    "if slide_list == slide_list2:\n",
    "    print(\"two lists are the same and the length of lists are :\", len(slide_list))\n",
    "slide_path_list = uf.make_paths_list(\"{}renameByUPN/\".format(slide_path),slide_list)\n",
    "print(slide_list[:20])"
   ]
  },
  {
   "cell_type": "code",
   "execution_count": 6,
   "metadata": {},
   "outputs": [
    {
     "data": {
      "text/plain": [
       "ITD NGS+PCR         103\n",
       "NPM1                101\n",
       "DNMT3A               99\n",
       "NRAS                 93\n",
       "ASXL1                86\n",
       "CEBPA NGS+Direct     84\n",
       "RUNX1                84\n",
       "TET2                 78\n",
       "IDH2                 71\n",
       "TP53                 60\n",
       "dtype: int64"
      ]
     },
     "execution_count": 6,
     "metadata": {},
     "output_type": "execute_result"
    }
   ],
   "source": [
    "df = pd.read_csv(\"/home/weber50432/AML_image_processing/code_use_csv/changeSlideName.csv\", sep=\",\", encoding=\"utf-8\")\n",
    "gene =df.columns[df.columns.get_loc(\"CEBPA NGS+Direct\"):df.columns.get_loc(\"BCOR\")+1]\n",
    "result = df[df[\"UPN, c4lab\"].isin(slide_list)]\n",
    "result['UPN, c4lab'] = result['UPN, c4lab'] .apply(lambda x: 'A' + str(x))\n",
    "result.set_index(\"UPN, c4lab\", inplace=True)\n",
    "result = result.loc[:,gene]\n",
    "# ranking the gene\n",
    "column_sum = result.sum(axis=0).astype(int)\n",
    "column_sum = column_sum.sort_values(ascending=False)\n",
    "column_sum[:10]"
   ]
  },
  {
   "cell_type": "code",
   "execution_count": 10,
   "metadata": {},
   "outputs": [
    {
     "name": "stdout",
     "output_type": "stream",
     "text": [
      "Index(['A3', 'A9', 'A12', 'A13', 'A22', 'A25', 'A26', 'A27', 'A28', 'A29',\n",
      "       'A59', 'A60', 'A99', 'A102', 'A103', 'A104', 'A105', 'A106', 'A108',\n",
      "       'A109'],\n",
      "      dtype='object', name='UPN, c4lab')\n",
      "[0, 0, 0, 0, 0, 0, 1, 0, 0, 0, 0, 0, 1, 0, 1, 0, 0, 0, 0, 1]\n",
      "yes\n"
     ]
    }
   ],
   "source": [
    "GENE_list = result[\"NPM1\"].astype(int).tolist()\n",
    "print(result.index[:20])\n",
    "print(GENE_list[:20])\n",
    "target = uf.get_targets_list(\"NPM1\",slide_list,\"/home/weber50432/AML_image_processing/code_use_csv/changeSlideName.csv\")\n",
    "# print(target[:5])\n",
    "if target == GENE_list:\n",
    "    print(\"yes\")\n"
   ]
  }
 ],
 "metadata": {
  "kernelspec": {
   "display_name": "AML",
   "language": "python",
   "name": "python3"
  },
  "language_info": {
   "codemirror_mode": {
    "name": "ipython",
    "version": 3
   },
   "file_extension": ".py",
   "mimetype": "text/x-python",
   "name": "python",
   "nbconvert_exporter": "python",
   "pygments_lexer": "ipython3",
   "version": "3.9.16"
  },
  "orig_nbformat": 4,
  "vscode": {
   "interpreter": {
    "hash": "1f232f962faf98c666526a91f43bdf4fdf8ec3ccc29d01b8c9967d9c5017bdac"
   }
  }
 },
 "nbformat": 4,
 "nbformat_minor": 2
}

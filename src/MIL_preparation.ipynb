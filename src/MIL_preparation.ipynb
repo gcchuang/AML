{
 "cells": [
  {
   "cell_type": "code",
   "execution_count": null,
   "metadata": {},
   "outputs": [],
   "source": [
    "import pandas as pd\n",
    "import numpy as np\n",
    "import os\n",
    "import torch\n",
    "from sklearn.model_selection import train_test_split\n",
    "import utility_functions as uf"
   ]
  },
  {
   "cell_type": "code",
   "execution_count": null,
   "metadata": {},
   "outputs": [],
   "source": [
    "patches_size = 256\n",
    "target_gene = \"NPM1\"\n",
    "left_proportion = 0.65\n",
    "shrink_proportion = 0.15\n",
    "level = 0\n",
    "grid = []\n",
    "slide_path = \"/home/exon_storage1/aml_slide/\"\n",
    "info_file_path = \"/home/weber50432/AML_image_processing/code_use_csv/changeSlideName.csv\"\n",
    "grid_val = []\n",
    "slide_list = uf.get_slides_list_number(f\"{slide_path}otsu_1.0/\")\n",
    "target = uf.get_targets_list(target_gene,slide_list,info_file_path)"
   ]
  },
  {
   "cell_type": "code",
   "execution_count": null,
   "metadata": {},
   "outputs": [],
   "source": [
    "X = np.array(slide_list)\n",
    "y = np.array(target)\n",
    "# 將數據集按比例 6:2:2 分為訓練集、驗證集和測試集\n",
    "# 找到標籤為1的樣本索引\n",
    "positive_indices = np.where(y == 1)[0]\n",
    "\n",
    "# 使用 train_test_split 函数分割樣本\n",
    "# 首先將標籤為1的樣本分成訓練集、驗證集和測試集\n",
    "train_pos, val_pos_test = train_test_split(positive_indices, test_size=0.4)\n",
    "val_pos, test_pos = train_test_split(val_pos_test, test_size=0.5)\n",
    "\n",
    "# 接下來將標籤為0的樣本分成訓練集、驗證集和測試集\n",
    "train_neg, val_neg_test, y_train, y_val_test = train_test_split(np.where(y == 0)[0], y[np.where(y == 0)[0]], test_size=0.4)\n",
    "val_neg, test_neg, y_val, y_test = train_test_split(val_neg_test, y_val_test, test_size=0.5)\n",
    "\n",
    "# 將訓練集、驗證集和測試集的索引合併起來\n",
    "train_indices = sorted(np.concatenate((train_pos, train_neg)))\n",
    "val_indices = sorted(np.concatenate((val_pos, val_neg)))\n",
    "test_indices = sorted(np.concatenate((test_pos, test_neg)))\n",
    "\n",
    "# 根據索引提取對應的數據和標籤\n",
    "X_train = X[train_indices].tolist()\n",
    "X_val = X[val_indices].tolist()\n",
    "X_test = X[test_indices].tolist()\n",
    "y_train = y[train_indices].tolist()\n",
    "y_val = y[val_indices].tolist()\n",
    "y_test = y[test_indices].tolist()\n",
    "\n",
    "# 計算各個集合的樣本數量\n",
    "print(f\"訓練集樣本數量：{len(X_train)}\")\n",
    "print(y_train.count(1))\n",
    "# print(X_train[:20])\n",
    "# print(y_train[:20])\n",
    "print(f\"驗證集樣本數量：{len(X_val)}\")\n",
    "print(y_val.count(1))\n",
    "print(f\"測試集樣本樣量：{len(X_test)}\")\n",
    "print(y_test.count(1))"
   ]
  },
  {
   "cell_type": "code",
   "execution_count": null,
   "metadata": {},
   "outputs": [],
   "source": [
    "target_gene_rename = target_gene.split(\" \")[0]\n",
    "output_path =\"/home/weber50432/AML_image_processing/lib/{}\".format(target_gene_rename)\n",
    "# check the output path is exist or not\n",
    "if not os.path.exists(output_path):\n",
    "    os.makedirs(output_path)\n",
    "# save the data\n",
    "train_output = {\n",
    "      \"slides\": uf.make_paths_list(\"{}renameByUPN/\".format(slide_path),X_train),\n",
    "      \"grid\": uf.get_grid(slide_path,X_train,patches_size,left_proportion,shrink_proportion),\n",
    "      \"targets\": y_train,\n",
    "      \"mult\": patches_size/224,\n",
    "      \"level\": level,\n",
    "  }\n",
    "torch.save(train_output, \"{}/{}_train_data.pt\".format(output_path,target_gene_rename))\n",
    "print(\"train_output is done\")\n",
    "val_output = {\n",
    "      \"slides\": uf.make_paths_list(\"{}renameByUPN/\".format(slide_path),X_val),\n",
    "      \"grid\": uf.get_grid(slide_path,X_val,patches_size,left_proportion,shrink_proportion),\n",
    "      \"targets\": y_val,\n",
    "      \"mult\": patches_size/224,\n",
    "      \"level\": level,\n",
    "  }\n",
    "torch.save(val_output, \"{}/{}_val_data.pt\".format(output_path,target_gene_rename))\n",
    "print(\"val_output is done\")\n",
    "test_output = {\n",
    "      \"slides\": uf.make_paths_list(\"{}renameByUPN/\".format(slide_path),X_test),\n",
    "      \"grid\": uf.get_grid(slide_path,X_test,patches_size,left_proportion,shrink_proportion),\n",
    "      \"targets\": y_test,\n",
    "      \"mult\": patches_size/224,\n",
    "      \"level\": level,\n",
    "  }\n",
    "torch.save(test_output, \"{}/{}_test_data.pt\".format(output_path,target_gene_rename))\n",
    "print(\"test_output is done\")"
   ]
  }
 ],
 "metadata": {
  "kernelspec": {
   "display_name": "ML",
   "language": "python",
   "name": "python3"
  },
  "language_info": {
   "codemirror_mode": {
    "name": "ipython",
    "version": 3
   },
   "file_extension": ".py",
   "mimetype": "text/x-python",
   "name": "python",
   "nbconvert_exporter": "python",
   "pygments_lexer": "ipython3",
   "version": "3.9.16"
  },
  "orig_nbformat": 4
 },
 "nbformat": 4,
 "nbformat_minor": 2
}
